{
 "cells": [
  {
   "cell_type": "code",
   "execution_count": 7,
   "metadata": {},
   "outputs": [
    {
     "name": "stdout",
     "output_type": "stream",
     "text": [
      "* Raw dataset size :  66\n",
      "Positive Data :  51\n",
      "Positive X :  51\n",
      "Negative Data :  15\n",
      "Negative X :  15\n",
      "Positive y :  51\n",
      "Negative y :  15\n"
     ]
    }
   ],
   "source": [
    "#Data Load\n",
    "\n",
    "import pandas as pd\n",
    "import numpy as np\n",
    "import matplotlib.pyplot as plt\n",
    "from sklearn.model_selection import train_test_split\n",
    "from sklearn.neighbors import KNeighborsRegressor\n",
    "import progressbar\n",
    "from sklearn.metrics import r2_score\n",
    "\n",
    "\n",
    "raw_dataset = pd.read_csv('./data/5_PA_2.csv', header=0, index_col=False)\n",
    "print(\"* Raw dataset size : \", len(raw_dataset))\n",
    "\n",
    "dataset = raw_dataset[[\"weight\", \"failure\", \"set_nozzle_temperature\", \"set_front_temperature\", \"set_intermediate_temperature\", \"set_rear_temperature\", \"set_mold_velocity_1\", \"set_mold_velocity_2\", \"set_mold_velocity_3\", \"set_mold_velocity_4\", \"set_mold_velocity_5\", \"set_mold_pressure_1\", \"set_mold_pressure_2\", \"set_mold_pressure_3\", \"set_mold_pressure_4\", \"set_mold_pressure_5\", \"set_mold_position_1\", \"set_mold_position_2\", \"set_mold_position_3\", \"set_mold_position_4\", \"set_mold_position_5\", \"set_hold_velocity_1\", \"set_hold_velocity_2\", \"set_hold_velocity_3\", \"set_hold_pressure_1\", \"set_hold_pressure_2\", \"set_hold_pressure_3\"]]\n",
    "\n",
    "positive_set = dataset.where(dataset[\"failure\"]==0).dropna()\n",
    "print(\"Positive Data : \", len(positive_set))\n",
    "positive_X = positive_set[[\"set_nozzle_temperature\", \"set_front_temperature\", \"set_intermediate_temperature\", \"set_rear_temperature\", \"set_mold_velocity_1\", \"set_mold_velocity_2\", \"set_mold_velocity_3\", \"set_mold_velocity_4\", \"set_mold_velocity_5\", \"set_mold_pressure_1\", \"set_mold_pressure_2\", \"set_mold_pressure_3\", \"set_mold_pressure_4\", \"set_mold_pressure_5\", \"set_mold_position_1\", \"set_mold_position_2\", \"set_mold_position_3\", \"set_mold_position_4\", \"set_mold_position_5\", \"set_hold_velocity_1\", \"set_hold_velocity_2\", \"set_hold_velocity_3\", \"set_hold_pressure_1\", \"set_hold_pressure_2\", \"set_hold_pressure_3\"]]\n",
    "print(\"Positive X : \", len(positive_X))\n",
    "\n",
    "negative_set = dataset.where(dataset[\"failure\"]==1).dropna()\n",
    "print(\"Negative Data : \", len(negative_set))\n",
    "negative_X = negative_set[[\"set_nozzle_temperature\", \"set_front_temperature\", \"set_intermediate_temperature\", \"set_rear_temperature\", \"set_mold_velocity_1\", \"set_mold_velocity_2\", \"set_mold_velocity_3\", \"set_mold_velocity_4\", \"set_mold_velocity_5\", \"set_mold_pressure_1\", \"set_mold_pressure_2\", \"set_mold_pressure_3\", \"set_mold_pressure_4\", \"set_mold_pressure_5\", \"set_mold_position_1\", \"set_mold_position_2\", \"set_mold_position_3\", \"set_mold_position_4\", \"set_mold_position_5\", \"set_hold_velocity_1\", \"set_hold_velocity_2\", \"set_hold_velocity_3\", \"set_hold_pressure_1\", \"set_hold_pressure_2\", \"set_hold_pressure_3\"]]\n",
    "print(\"Negative X : \", len(negative_X))\n",
    "\n",
    "positive_y = positive_set[[\"weight\"]]\n",
    "print(\"Positive y : \", len(positive_y))\n",
    "negative_y = negative_set[[\"weight\"]]\n",
    "print(\"Negative y : \", len(negative_y))\n",
    "\n"
   ]
  },
  {
   "cell_type": "code",
   "execution_count": 6,
   "metadata": {},
   "outputs": [
    {
     "name": "stdout",
     "output_type": "stream",
     "text": [
      "Trainset Score(RMSE) with  0.8811764705882353\n",
      "Trainset Score(RMSE) with  -1.23312133072407\n",
      "Number of Train Samples :  34\n",
      "* R-squared Score with Trainset (@positive) : 0.8944359053181679\n",
      "* R-squared Score with Testset (@positive) : 0.1684277646201492\n"
     ]
    }
   ],
   "source": [
    "X_train, X_test, y_train, y_test = train_test_split(positive_X, np.ravel(positive_y), test_size=0.33, shuffle=True)\n",
    "model = KNeighborsRegressor(n_neighbors=2).fit(X_train, y_train)\n",
    "\n",
    "y_pred_trainset = model.predict(X_train)\n",
    "y_pred_testset = model.predict(X_test)\n",
    "\n",
    "print(\"Trainset Score(RMSE) with \", (r2_score(y_pred_trainset, y_train))) # RMSE\n",
    "print(\"Trainset Score(RMSE) with \", (r2_score(y_pred_testset, y_test))) # RMSE\n",
    "\n",
    "print(\"Number of Train Samples : \", len(X_train))\n",
    "print(\"* R-squared Score with Trainset (@positive) :\", model.score(X_train, y_train))\n",
    "print(\"* R-squared Score with Testset (@positive) :\", model.score(X_test, y_test))\n",
    "\n"
   ]
  },
  {
   "cell_type": "code",
   "execution_count": 16,
   "metadata": {},
   "outputs": [
    {
     "data": {
      "image/png": "[encoded data removed]",
      "text/plain": [
       "<Figure size 720x720 with 1 Axes>"
      ]
     },
     "metadata": {
      "needs_background": "light"
     },
     "output_type": "display_data"
    }
   ],
   "source": [
    "# visualization for trainset\n",
    "\n",
    "plt.figure(figsize=(10,10))\n",
    "plt.scatter(y_train, y_pred_trainset, c='crimson')\n",
    "plt.yscale('linear')\n",
    "plt.xscale('linear')\n",
    "\n",
    "p1 = max(max(y_pred_trainset), max(y_train))\n",
    "p2 = min(min(y_pred_trainset), min(y_train))\n",
    "plt.plot([p1, p2], [p1, p2], 'b-')\n",
    "plt.xlabel('Real', fontsize=15)\n",
    "plt.ylabel('Predict', fontsize=15)\n",
    "plt.axis('equal')\n",
    "plt.show()"
   ]
  },
  {
   "cell_type": "code",
   "execution_count": 17,
   "metadata": {},
   "outputs": [
    {
     "data": {
      "image/png": "[encoded data removed]",
      "text/plain": [
       "<Figure size 720x720 with 1 Axes>"
      ]
     },
     "metadata": {
      "needs_background": "light"
     },
     "output_type": "display_data"
    }
   ],
   "source": [
    "# visualization for trainset\n",
    "\n",
    "plt.figure(figsize=(10,10))\n",
    "plt.scatter(y_test, y_pred_testset, c='crimson')\n",
    "plt.yscale('linear')\n",
    "plt.xscale('linear')\n",
    "\n",
    "p1 = max(max(y_pred_testset), max(y_train))\n",
    "p2 = min(min(y_pred_testset), min(y_train))\n",
    "plt.plot([p1, p2], [p1, p2], 'b-')\n",
    "plt.xlabel('Real', fontsize=15)\n",
    "plt.ylabel('Predict', fontsize=15)\n",
    "plt.axis('equal')\n",
    "plt.show()"
   ]
  },
  {
   "cell_type": "code",
   "execution_count": 72,
   "metadata": {},
   "outputs": [
    {
     "name": "stdout",
     "output_type": "stream",
     "text": [
      "Predicted weight :  [189.3518995]\n"
     ]
    },
    {
     "name": "stderr",
     "output_type": "stream",
     "text": [
      "/Users/byunghunhwang/dev/moldlink/venv/lib/python3.10/site-packages/sklearn/base.py:445: UserWarning: X does not have valid feature names, but MLPRegressor was fitted with feature names\n",
      "  warnings.warn(\n"
     ]
    }
   ],
   "source": [
    "# prediction\n",
    "inputset = [\"set_nozzle_temperature\", \"set_front_temperature\", \"set_intermediate_temperature\", \"set_rear_temperature\", \"set_mold_velocity_1\", \"set_mold_velocity_2\", \"set_mold_velocity_3\", \"set_mold_velocity_4\", \"set_mold_velocity_5\", \"set_mold_pressure_1\", \"set_mold_pressure_2\", \"set_mold_pressure_3\", \"set_mold_pressure_4\", \"set_mold_pressure_5\", \"set_mold_position_1\", \"set_mold_position_2\", \"set_mold_position_3\", \"set_mold_position_4\", \"set_mold_position_5\", \"set_hold_velocity_1\", \"set_hold_velocity_2\", \"set_hold_velocity_3\", \"set_hold_pressure_1\", \"set_hold_pressure_2\", \"set_hold_pressure_3\"]\n",
    "\n",
    "input = [250, 230, 230,\t220, # temperature\n",
    "        40, 50,\t50,\t45,\t40,\t# mold velocity\n",
    "        50,\t60,\t50,\t50,\t50,\t# mold pressure\n",
    "        85,\t50,\t40,\t35,\t25, #mold position\n",
    "        20,\t0,\t0,\t#hold velocity\n",
    "        40,\t0,\t0] #hold pressure\n",
    "result = model.predict([input])\n",
    "print(\"Predicted weight : \", result)"
   ]
  }
 ],
 "metadata": {
  "interpreter": {
   "hash": "af900d49f4ea7eb63e005872cef6e526507697835daee4464ef95ee31d975aa5"
  },
  "kernelspec": {
   "display_name": "Python 3.10.1 64-bit ('venv': venv)",
   "language": "python",
   "name": "python3"
  },
  "language_info": {
   "codemirror_mode": {
    "name": "ipython",
    "version": 3
   },
   "file_extension": ".py",
   "mimetype": "text/x-python",
   "name": "python",
   "nbconvert_exporter": "python",
   "pygments_lexer": "ipython3",
   "version": "3.10.1"
  },
  "orig_nbformat": 4
 },
 "nbformat": 4,
 "nbformat_minor": 2
}
